{
 "cells": [
  {
   "cell_type": "code",
   "execution_count": 1,
   "metadata": {},
   "outputs": [],
   "source": [
    "from __future__ import print_function\n",
    "from __future__ import absolute_import\n",
    "from __future__ import division"
   ]
  },
  {
   "cell_type": "code",
   "execution_count": 2,
   "metadata": {},
   "outputs": [
    {
     "name": "stderr",
     "output_type": "stream",
     "text": [
      "/Users/z002krv/anaconda3/envs/TensorFlow_RB/lib/python3.6/site-packages/h5py/__init__.py:36: FutureWarning: Conversion of the second argument of issubdtype from `float` to `np.floating` is deprecated. In future, it will be treated as `np.float64 == np.dtype(float).type`.\n",
      "  from ._conv import register_converters as _register_converters\n"
     ]
    }
   ],
   "source": [
    "import pandas as pd\n",
    "import numpy as np\n",
    "import tensorflow as tf"
   ]
  },
  {
   "cell_type": "code",
   "execution_count": 3,
   "metadata": {},
   "outputs": [],
   "source": [
    "%matplotlib inline\n",
    "import matplotlib\n",
    "import matplotlib.pyplot as plt\n",
    "from matplotlib.mlab import  PCA"
   ]
  },
  {
   "cell_type": "code",
   "execution_count": 4,
   "metadata": {},
   "outputs": [
    {
     "name": "stdout",
     "output_type": "stream",
     "text": [
      "1.9.0\n",
      "1.14.3\n",
      "0.23.0\n"
     ]
    }
   ],
   "source": [
    "print(tf.__version__)\n",
    "print(np.__version__)\n",
    "print(pd.__version__)"
   ]
  },
  {
   "cell_type": "code",
   "execution_count": 5,
   "metadata": {},
   "outputs": [],
   "source": [
    "prices = pd.read_csv('stocks.csv')"
   ]
  },
  {
   "cell_type": "code",
   "execution_count": 6,
   "metadata": {},
   "outputs": [
    {
     "data": {
      "text/html": [
       "<div>\n",
       "<style scoped>\n",
       "    .dataframe tbody tr th:only-of-type {\n",
       "        vertical-align: middle;\n",
       "    }\n",
       "\n",
       "    .dataframe tbody tr th {\n",
       "        vertical-align: top;\n",
       "    }\n",
       "\n",
       "    .dataframe thead th {\n",
       "        text-align: right;\n",
       "    }\n",
       "</style>\n",
       "<table border=\"1\" class=\"dataframe\">\n",
       "  <thead>\n",
       "    <tr style=\"text-align: right;\">\n",
       "      <th></th>\n",
       "      <th>Date</th>\n",
       "      <th>ADBE</th>\n",
       "      <th>CVX</th>\n",
       "      <th>MDLZ</th>\n",
       "      <th>NFLX</th>\n",
       "      <th>ORCL</th>\n",
       "      <th>SBUX</th>\n",
       "    </tr>\n",
       "  </thead>\n",
       "  <tbody>\n",
       "    <tr>\n",
       "      <th>0</th>\n",
       "      <td>3-Jan-17</td>\n",
       "      <td>113.820000</td>\n",
       "      <td>110.759811</td>\n",
       "      <td>44.430000</td>\n",
       "      <td>141.220001</td>\n",
       "      <td>40.230000</td>\n",
       "      <td>55.649239</td>\n",
       "    </tr>\n",
       "    <tr>\n",
       "      <th>1</th>\n",
       "      <td>1-Dec-16</td>\n",
       "      <td>102.949997</td>\n",
       "      <td>116.584061</td>\n",
       "      <td>44.330002</td>\n",
       "      <td>123.800003</td>\n",
       "      <td>38.299999</td>\n",
       "      <td>55.270943</td>\n",
       "    </tr>\n",
       "    <tr>\n",
       "      <th>2</th>\n",
       "      <td>1-Nov-16</td>\n",
       "      <td>102.809998</td>\n",
       "      <td>110.502274</td>\n",
       "      <td>41.066032</td>\n",
       "      <td>117.000000</td>\n",
       "      <td>40.033211</td>\n",
       "      <td>57.709953</td>\n",
       "    </tr>\n",
       "    <tr>\n",
       "      <th>3</th>\n",
       "      <td>3-Oct-16</td>\n",
       "      <td>107.510002</td>\n",
       "      <td>102.728424</td>\n",
       "      <td>44.750420</td>\n",
       "      <td>124.870003</td>\n",
       "      <td>38.270115</td>\n",
       "      <td>52.588333</td>\n",
       "    </tr>\n",
       "    <tr>\n",
       "      <th>4</th>\n",
       "      <td>1-Sep-16</td>\n",
       "      <td>108.540001</td>\n",
       "      <td>100.933739</td>\n",
       "      <td>43.714809</td>\n",
       "      <td>98.550003</td>\n",
       "      <td>38.975769</td>\n",
       "      <td>53.648621</td>\n",
       "    </tr>\n",
       "  </tbody>\n",
       "</table>\n",
       "</div>"
      ],
      "text/plain": [
       "       Date        ADBE         CVX       MDLZ        NFLX       ORCL  \\\n",
       "0  3-Jan-17  113.820000  110.759811  44.430000  141.220001  40.230000   \n",
       "1  1-Dec-16  102.949997  116.584061  44.330002  123.800003  38.299999   \n",
       "2  1-Nov-16  102.809998  110.502274  41.066032  117.000000  40.033211   \n",
       "3  3-Oct-16  107.510002  102.728424  44.750420  124.870003  38.270115   \n",
       "4  1-Sep-16  108.540001  100.933739  43.714809   98.550003  38.975769   \n",
       "\n",
       "        SBUX  \n",
       "0  55.649239  \n",
       "1  55.270943  \n",
       "2  57.709953  \n",
       "3  52.588333  \n",
       "4  53.648621  "
      ]
     },
     "execution_count": 6,
     "metadata": {},
     "output_type": "execute_result"
    }
   ],
   "source": [
    "prices.head()"
   ]
  },
  {
   "cell_type": "code",
   "execution_count": 7,
   "metadata": {},
   "outputs": [],
   "source": [
    "prices.Date = pd.to_datetime(prices.Date , infer_datetime_format=True)"
   ]
  },
  {
   "cell_type": "code",
   "execution_count": 8,
   "metadata": {},
   "outputs": [],
   "source": [
    "prices = prices.sort_values(['Date'],ascending=[True])"
   ]
  },
  {
   "cell_type": "code",
   "execution_count": 9,
   "metadata": {},
   "outputs": [
    {
     "data": {
      "text/html": [
       "<div>\n",
       "<style scoped>\n",
       "    .dataframe tbody tr th:only-of-type {\n",
       "        vertical-align: middle;\n",
       "    }\n",
       "\n",
       "    .dataframe tbody tr th {\n",
       "        vertical-align: top;\n",
       "    }\n",
       "\n",
       "    .dataframe thead th {\n",
       "        text-align: right;\n",
       "    }\n",
       "</style>\n",
       "<table border=\"1\" class=\"dataframe\">\n",
       "  <thead>\n",
       "    <tr style=\"text-align: right;\">\n",
       "      <th></th>\n",
       "      <th>Date</th>\n",
       "      <th>ADBE</th>\n",
       "      <th>CVX</th>\n",
       "      <th>MDLZ</th>\n",
       "      <th>NFLX</th>\n",
       "      <th>ORCL</th>\n",
       "      <th>SBUX</th>\n",
       "    </tr>\n",
       "  </thead>\n",
       "  <tbody>\n",
       "    <tr>\n",
       "      <th>120</th>\n",
       "      <td>2007-01-03</td>\n",
       "      <td>38.869999</td>\n",
       "      <td>50.777351</td>\n",
       "      <td>17.519524</td>\n",
       "      <td>3.258571</td>\n",
       "      <td>15.696321</td>\n",
       "      <td>15.752188</td>\n",
       "    </tr>\n",
       "    <tr>\n",
       "      <th>119</th>\n",
       "      <td>2007-02-01</td>\n",
       "      <td>39.250000</td>\n",
       "      <td>48.082939</td>\n",
       "      <td>16.019426</td>\n",
       "      <td>3.218571</td>\n",
       "      <td>15.028588</td>\n",
       "      <td>13.930813</td>\n",
       "    </tr>\n",
       "    <tr>\n",
       "      <th>118</th>\n",
       "      <td>2007-03-01</td>\n",
       "      <td>41.700001</td>\n",
       "      <td>51.900383</td>\n",
       "      <td>16.009354</td>\n",
       "      <td>3.312857</td>\n",
       "      <td>16.583584</td>\n",
       "      <td>14.138198</td>\n",
       "    </tr>\n",
       "    <tr>\n",
       "      <th>117</th>\n",
       "      <td>2007-04-02</td>\n",
       "      <td>41.560001</td>\n",
       "      <td>54.588032</td>\n",
       "      <td>16.924608</td>\n",
       "      <td>3.167143</td>\n",
       "      <td>17.196436</td>\n",
       "      <td>13.984914</td>\n",
       "    </tr>\n",
       "    <tr>\n",
       "      <th>116</th>\n",
       "      <td>2007-05-01</td>\n",
       "      <td>44.060001</td>\n",
       "      <td>57.598267</td>\n",
       "      <td>17.111704</td>\n",
       "      <td>3.128572</td>\n",
       "      <td>17.726965</td>\n",
       "      <td>12.988567</td>\n",
       "    </tr>\n",
       "  </tbody>\n",
       "</table>\n",
       "</div>"
      ],
      "text/plain": [
       "          Date       ADBE        CVX       MDLZ      NFLX       ORCL  \\\n",
       "120 2007-01-03  38.869999  50.777351  17.519524  3.258571  15.696321   \n",
       "119 2007-02-01  39.250000  48.082939  16.019426  3.218571  15.028588   \n",
       "118 2007-03-01  41.700001  51.900383  16.009354  3.312857  16.583584   \n",
       "117 2007-04-02  41.560001  54.588032  16.924608  3.167143  17.196436   \n",
       "116 2007-05-01  44.060001  57.598267  17.111704  3.128572  17.726965   \n",
       "\n",
       "          SBUX  \n",
       "120  15.752188  \n",
       "119  13.930813  \n",
       "118  14.138198  \n",
       "117  13.984914  \n",
       "116  12.988567  "
      ]
     },
     "execution_count": 9,
     "metadata": {},
     "output_type": "execute_result"
    }
   ],
   "source": [
    "prices.head()"
   ]
  },
  {
   "cell_type": "code",
   "execution_count": 10,
   "metadata": {},
   "outputs": [],
   "source": [
    "prices = prices[['ADBE','MDLZ','SBUX']]"
   ]
  },
  {
   "cell_type": "code",
   "execution_count": 11,
   "metadata": {},
   "outputs": [
    {
     "data": {
      "text/html": [
       "<div>\n",
       "<style scoped>\n",
       "    .dataframe tbody tr th:only-of-type {\n",
       "        vertical-align: middle;\n",
       "    }\n",
       "\n",
       "    .dataframe tbody tr th {\n",
       "        vertical-align: top;\n",
       "    }\n",
       "\n",
       "    .dataframe thead th {\n",
       "        text-align: right;\n",
       "    }\n",
       "</style>\n",
       "<table border=\"1\" class=\"dataframe\">\n",
       "  <thead>\n",
       "    <tr style=\"text-align: right;\">\n",
       "      <th></th>\n",
       "      <th>ADBE</th>\n",
       "      <th>MDLZ</th>\n",
       "      <th>SBUX</th>\n",
       "    </tr>\n",
       "  </thead>\n",
       "  <tbody>\n",
       "    <tr>\n",
       "      <th>120</th>\n",
       "      <td>38.869999</td>\n",
       "      <td>17.519524</td>\n",
       "      <td>15.752188</td>\n",
       "    </tr>\n",
       "    <tr>\n",
       "      <th>119</th>\n",
       "      <td>39.250000</td>\n",
       "      <td>16.019426</td>\n",
       "      <td>13.930813</td>\n",
       "    </tr>\n",
       "    <tr>\n",
       "      <th>118</th>\n",
       "      <td>41.700001</td>\n",
       "      <td>16.009354</td>\n",
       "      <td>14.138198</td>\n",
       "    </tr>\n",
       "    <tr>\n",
       "      <th>117</th>\n",
       "      <td>41.560001</td>\n",
       "      <td>16.924608</td>\n",
       "      <td>13.984914</td>\n",
       "    </tr>\n",
       "    <tr>\n",
       "      <th>116</th>\n",
       "      <td>44.060001</td>\n",
       "      <td>17.111704</td>\n",
       "      <td>12.988567</td>\n",
       "    </tr>\n",
       "  </tbody>\n",
       "</table>\n",
       "</div>"
      ],
      "text/plain": [
       "          ADBE       MDLZ       SBUX\n",
       "120  38.869999  17.519524  15.752188\n",
       "119  39.250000  16.019426  13.930813\n",
       "118  41.700001  16.009354  14.138198\n",
       "117  41.560001  16.924608  13.984914\n",
       "116  44.060001  17.111704  12.988567"
      ]
     },
     "execution_count": 11,
     "metadata": {},
     "output_type": "execute_result"
    }
   ],
   "source": [
    "prices.head()"
   ]
  },
  {
   "cell_type": "code",
   "execution_count": 12,
   "metadata": {},
   "outputs": [
    {
     "data": {
      "text/plain": [
       "ADBE    float64\n",
       "MDLZ    float64\n",
       "SBUX    float64\n",
       "dtype: object"
      ]
     },
     "execution_count": 12,
     "metadata": {},
     "output_type": "execute_result"
    }
   ],
   "source": [
    "prices.dtypes"
   ]
  },
  {
   "cell_type": "code",
   "execution_count": 13,
   "metadata": {},
   "outputs": [
    {
     "data": {
      "text/plain": [
       "{'ADBE': dtype('float64'), 'MDLZ': dtype('float64'), 'SBUX': dtype('float64')}"
      ]
     },
     "execution_count": 13,
     "metadata": {},
     "output_type": "execute_result"
    }
   ],
   "source": [
    "dict(prices.dtypes)"
   ]
  },
  {
   "cell_type": "code",
   "execution_count": 14,
   "metadata": {},
   "outputs": [],
   "source": [
    "returns = prices[[key for key in dict(prices.dtypes) if dict(prices.dtypes)[key] in ['float64','int64']]].pct_change()"
   ]
  },
  {
   "cell_type": "code",
   "execution_count": 15,
   "metadata": {},
   "outputs": [],
   "source": [
    "returns = returns[1:]"
   ]
  },
  {
   "cell_type": "code",
   "execution_count": 16,
   "metadata": {},
   "outputs": [
    {
     "data": {
      "text/html": [
       "<div>\n",
       "<style scoped>\n",
       "    .dataframe tbody tr th:only-of-type {\n",
       "        vertical-align: middle;\n",
       "    }\n",
       "\n",
       "    .dataframe tbody tr th {\n",
       "        vertical-align: top;\n",
       "    }\n",
       "\n",
       "    .dataframe thead th {\n",
       "        text-align: right;\n",
       "    }\n",
       "</style>\n",
       "<table border=\"1\" class=\"dataframe\">\n",
       "  <thead>\n",
       "    <tr style=\"text-align: right;\">\n",
       "      <th></th>\n",
       "      <th>ADBE</th>\n",
       "      <th>MDLZ</th>\n",
       "      <th>SBUX</th>\n",
       "    </tr>\n",
       "  </thead>\n",
       "  <tbody>\n",
       "    <tr>\n",
       "      <th>119</th>\n",
       "      <td>0.009776</td>\n",
       "      <td>-0.085624</td>\n",
       "      <td>-0.115627</td>\n",
       "    </tr>\n",
       "    <tr>\n",
       "      <th>118</th>\n",
       "      <td>0.062420</td>\n",
       "      <td>-0.000629</td>\n",
       "      <td>0.014887</td>\n",
       "    </tr>\n",
       "    <tr>\n",
       "      <th>117</th>\n",
       "      <td>-0.003357</td>\n",
       "      <td>0.057170</td>\n",
       "      <td>-0.010842</td>\n",
       "    </tr>\n",
       "    <tr>\n",
       "      <th>116</th>\n",
       "      <td>0.060154</td>\n",
       "      <td>0.011055</td>\n",
       "      <td>-0.071244</td>\n",
       "    </tr>\n",
       "    <tr>\n",
       "      <th>115</th>\n",
       "      <td>-0.088743</td>\n",
       "      <td>0.049031</td>\n",
       "      <td>-0.089205</td>\n",
       "    </tr>\n",
       "  </tbody>\n",
       "</table>\n",
       "</div>"
      ],
      "text/plain": [
       "         ADBE      MDLZ      SBUX\n",
       "119  0.009776 -0.085624 -0.115627\n",
       "118  0.062420 -0.000629  0.014887\n",
       "117 -0.003357  0.057170 -0.010842\n",
       "116  0.060154  0.011055 -0.071244\n",
       "115 -0.088743  0.049031 -0.089205"
      ]
     },
     "execution_count": 16,
     "metadata": {},
     "output_type": "execute_result"
    }
   ],
   "source": [
    "returns.head()"
   ]
  },
  {
   "cell_type": "code",
   "execution_count": 17,
   "metadata": {},
   "outputs": [
    {
     "name": "stderr",
     "output_type": "stream",
     "text": [
      "/Users/z002krv/anaconda3/envs/TensorFlow_RB/lib/python3.6/site-packages/ipykernel_launcher.py:1: FutureWarning: Method .as_matrix will be removed in a future version. Use .values instead.\n",
      "  \"\"\"Entry point for launching an IPython kernel.\n"
     ]
    }
   ],
   "source": [
    "returns_arr= returns.as_matrix()[:10]"
   ]
  },
  {
   "cell_type": "code",
   "execution_count": 18,
   "metadata": {},
   "outputs": [
    {
     "data": {
      "text/plain": [
       "array([[ 0.0097762 , -0.08562436, -0.11562679],\n",
       "       [ 0.06242041, -0.00062874,  0.01488678],\n",
       "       [-0.00335731,  0.05716995, -0.01084183],\n",
       "       [ 0.06015399,  0.01105467, -0.07124441],\n",
       "       [-0.0887426 ,  0.04903135, -0.08920514],\n",
       "       [ 0.0034869 , -0.07092208,  0.01676833],\n",
       "       [ 0.06105731, -0.02106854,  0.03260863],\n",
       "       [ 0.02128655,  0.08540859, -0.04900176],\n",
       "       [ 0.09711411, -0.0318747 ,  0.01832061],\n",
       "       [-0.12025058,  0.03412141, -0.12331339]])"
      ]
     },
     "execution_count": 18,
     "metadata": {},
     "output_type": "execute_result"
    }
   ],
   "source": [
    "returns_arr"
   ]
  },
  {
   "cell_type": "code",
   "execution_count": 19,
   "metadata": {},
   "outputs": [],
   "source": [
    "from sklearn.preprocessing import  StandardScaler\n",
    "scaler = StandardScaler()"
   ]
  },
  {
   "cell_type": "code",
   "execution_count": 20,
   "metadata": {},
   "outputs": [],
   "source": [
    "returns_arr_scaled= scaler.fit_transform(returns_arr)"
   ]
  },
  {
   "cell_type": "code",
   "execution_count": 21,
   "metadata": {},
   "outputs": [
    {
     "data": {
      "text/plain": [
       "array([[-0.00794824, -1.66841975, -1.3815757 ],\n",
       "       [ 0.79937034, -0.06227426,  0.93127707],\n",
       "       [-0.20935564,  1.02993615,  0.47533596],\n",
       "       [ 0.76461402,  0.15850482, -0.59506817],\n",
       "       [-1.51877095,  0.87614265, -0.91335326],\n",
       "       [-0.10439707, -1.39059372,  0.96462026],\n",
       "       [ 0.7784667 , -0.44852127,  1.24532886],\n",
       "       [ 0.16856723,  1.56355606, -0.20090235],\n",
       "       [ 1.33141124, -0.65272298,  0.99212851],\n",
       "       [-2.00195763,  0.59439231, -1.51779118]])"
      ]
     },
     "execution_count": 21,
     "metadata": {},
     "output_type": "execute_result"
    }
   ],
   "source": [
    "returns_arr_scaled"
   ]
  },
  {
   "cell_type": "code",
   "execution_count": 22,
   "metadata": {},
   "outputs": [
    {
     "name": "stderr",
     "output_type": "stream",
     "text": [
      "/Users/z002krv/anaconda3/envs/TensorFlow_RB/lib/python3.6/site-packages/ipykernel_launcher.py:1: MatplotlibDeprecationWarning: The PCA class was deprecated in version 2.2.\n",
      "  \"\"\"Entry point for launching an IPython kernel.\n"
     ]
    }
   ],
   "source": [
    "results = PCA(returns_arr_scaled,standardize=False)"
   ]
  },
  {
   "cell_type": "code",
   "execution_count": 23,
   "metadata": {},
   "outputs": [
    {
     "data": {
      "text/plain": [
       "array([0.61673564, 0.2826719 , 0.10059245])"
      ]
     },
     "execution_count": 23,
     "metadata": {},
     "output_type": "execute_result"
    }
   ],
   "source": [
    "results.fracs"
   ]
  },
  {
   "cell_type": "code",
   "execution_count": 24,
   "metadata": {},
   "outputs": [
    {
     "data": {
      "text/plain": [
       "array([[-0.00794824, -1.66841975, -1.3815757 ],\n",
       "       [ 0.79937034, -0.06227426,  0.93127707],\n",
       "       [-0.20935564,  1.02993615,  0.47533596],\n",
       "       [ 0.76461402,  0.15850482, -0.59506817],\n",
       "       [-1.51877095,  0.87614265, -0.91335326],\n",
       "       [-0.10439707, -1.39059372,  0.96462026],\n",
       "       [ 0.7784667 , -0.44852127,  1.24532886],\n",
       "       [ 0.16856723,  1.56355606, -0.20090235],\n",
       "       [ 1.33141124, -0.65272298,  0.99212851],\n",
       "       [-2.00195763,  0.59439231, -1.51779118]])"
      ]
     },
     "execution_count": 24,
     "metadata": {},
     "output_type": "execute_result"
    }
   ],
   "source": [
    "np.dot(results.Y,results.Wt)"
   ]
  },
  {
   "cell_type": "code",
   "execution_count": 25,
   "metadata": {},
   "outputs": [],
   "source": [
    "n_inputs  = 3\n",
    "n_hidden = 2\n",
    "n_outouts = n_inputs"
   ]
  },
  {
   "cell_type": "code",
   "execution_count": 26,
   "metadata": {},
   "outputs": [],
   "source": [
    "X  = tf.placeholder(tf.float32 , shape = [None,n_inputs])"
   ]
  },
  {
   "cell_type": "code",
   "execution_count": 27,
   "metadata": {},
   "outputs": [],
   "source": [
    "hidden = tf.layers.dense(X,n_hidden)"
   ]
  },
  {
   "cell_type": "code",
   "execution_count": 28,
   "metadata": {},
   "outputs": [],
   "source": [
    "output = tf.layers.dense(hidden,n_outouts)"
   ]
  },
  {
   "cell_type": "code",
   "execution_count": 29,
   "metadata": {},
   "outputs": [],
   "source": [
    "reconstruction_loss = tf.reduce_mean(tf.square(output-X))"
   ]
  },
  {
   "cell_type": "code",
   "execution_count": 30,
   "metadata": {},
   "outputs": [],
   "source": [
    "optimizer = tf.train.AdamOptimizer(learning_rate=0.01)"
   ]
  },
  {
   "cell_type": "code",
   "execution_count": 31,
   "metadata": {},
   "outputs": [],
   "source": [
    "training_op = optimizer.minimize(reconstruction_loss)"
   ]
  },
  {
   "cell_type": "code",
   "execution_count": 32,
   "metadata": {},
   "outputs": [],
   "source": [
    "#tf.reset_default_graph()"
   ]
  },
  {
   "cell_type": "code",
   "execution_count": 33,
   "metadata": {},
   "outputs": [],
   "source": [
    "init = tf.global_variables_initializer()"
   ]
  },
  {
   "cell_type": "code",
   "execution_count": 34,
   "metadata": {},
   "outputs": [],
   "source": [
    "n_iter = 10000"
   ]
  },
  {
   "cell_type": "code",
   "execution_count": 35,
   "metadata": {},
   "outputs": [
    {
     "name": "stdout",
     "output_type": "stream",
     "text": [
      "[[-0.4490621  -1.7773783  -0.9831107 ]\n",
      " [ 0.8298887  -0.05469791  0.9036716 ]\n",
      " [-0.00454278  1.0805607   0.29044044]\n",
      " [ 0.05007089 -0.01799638  0.05049707]\n",
      " [-1.2644243   0.9389866  -1.1428841 ]\n",
      " [ 0.5983972  -1.216936    0.329614  ]\n",
      " [ 1.0220679  -0.38830045  1.0251796 ]\n",
      " [-0.22358955  1.4666971   0.15355702]\n",
      " [ 1.1854469  -0.68874186  1.1238751 ]\n",
      " [-1.7440054   0.65812033 -1.7505531 ]]\n"
     ]
    }
   ],
   "source": [
    "with tf.Session() as sess:\n",
    "    init.run()\n",
    "    for iter in range(n_iter):\n",
    "            training_op.run(feed_dict={X:returns_arr_scaled})\n",
    "            \n",
    "    outputs_val = output.eval(feed_dict={X:returns_arr_scaled})\n",
    "    print(outputs_val)"
   ]
  },
  {
   "cell_type": "code",
   "execution_count": 38,
   "metadata": {},
   "outputs": [
    {
     "data": {
      "text/plain": [
       "array([[-0.44903258, -1.77738749, -0.98310396],\n",
       "       [ 0.82990699, -0.05473033,  0.90369053],\n",
       "       [-0.00461448,  1.08051646,  0.29037459],\n",
       "       [ 0.05004494, -0.01802601,  0.05046729],\n",
       "       [-1.2645507 ,  0.93894653, -1.14301362],\n",
       "       [ 0.59845995, -1.21695631,  0.32966536],\n",
       "       [ 1.0221117 , -0.38832995,  1.02522209],\n",
       "       [-0.2236927 ,  1.46665014,  0.15346185],\n",
       "       [ 1.18550953, -0.68876729,  1.12393484],\n",
       "       [-1.74414266,  0.65808424, -1.75069897]])"
      ]
     },
     "execution_count": 38,
     "metadata": {},
     "output_type": "execute_result"
    }
   ],
   "source": [
    "np.dot(results.Y[:,[0,1]],results.Wt[[0,1]])"
   ]
  },
  {
   "cell_type": "code",
   "execution_count": null,
   "metadata": {},
   "outputs": [],
   "source": []
  }
 ],
 "metadata": {
  "kernelspec": {
   "display_name": "Python 3",
   "language": "python",
   "name": "python3"
  },
  "language_info": {
   "codemirror_mode": {
    "name": "ipython",
    "version": 3
   },
   "file_extension": ".py",
   "mimetype": "text/x-python",
   "name": "python",
   "nbconvert_exporter": "python",
   "pygments_lexer": "ipython3",
   "version": "3.6.5"
  }
 },
 "nbformat": 4,
 "nbformat_minor": 2
}
